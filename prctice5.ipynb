{
 "cells": [
  {
   "cell_type": "code",
   "execution_count": 1,
   "id": "f069cda5",
   "metadata": {},
   "outputs": [],
   "source": [
    "#字典"
   ]
  },
  {
   "cell_type": "code",
   "execution_count": 6,
   "id": "ce04e815",
   "metadata": {},
   "outputs": [
    {
     "data": {
      "text/plain": [
       "True"
      ]
     },
     "execution_count": 6,
     "metadata": {},
     "output_type": "execute_result"
    }
   ],
   "source": [
    "a = dict(one = 1, two = 2, three = 3)\n",
    "b = {\"one\" : 1, \"two\" : 2, \"three\" : 3}\n",
    "c = dict(zip([\"one\", \"two\", \"three\"],[1, 2, 3]))\n",
    "d = dict([(\"two\", 2),(\"one\", 1),(\"three\", 3)])\n",
    "e = dict({\"three\" : 3,\"one\" : 1,\"two\" : 2})\n",
    "a == b == c == d == e"
   ]
  },
  {
   "cell_type": "code",
   "execution_count": 7,
   "id": "4bc0c02d",
   "metadata": {},
   "outputs": [],
   "source": [
    "#字典推导式\n",
    "DIAL_CODES = [ (86, 'China'),\n",
    "(91, 'India'),\n",
    "(1, 'United States'),\n",
    "(62, 'Indonesia'),\n",
    "(55, 'Brazil'),\n",
    "(92, 'Pakistan'),\n",
    "(880, 'Bangladesh'),\n",
    "(234, 'Nigeria'),\n",
    "(7, 'Russia'),\n",
    "(81, 'Japan'),\n",
    "]"
   ]
  },
  {
   "cell_type": "code",
   "execution_count": 8,
   "id": "c22c4b65",
   "metadata": {},
   "outputs": [
    {
     "data": {
      "text/plain": [
       "{'China': 86,\n",
       " 'India': 91,\n",
       " 'United States': 1,\n",
       " 'Indonesia': 62,\n",
       " 'Brazil': 55,\n",
       " 'Pakistan': 92,\n",
       " 'Bangladesh': 880,\n",
       " 'Nigeria': 234,\n",
       " 'Russia': 7,\n",
       " 'Japan': 81}"
      ]
     },
     "execution_count": 8,
     "metadata": {},
     "output_type": "execute_result"
    }
   ],
   "source": [
    "country_code = {country : code for code, country in DIAL_CODES}\n",
    "country_code"
   ]
  },
  {
   "cell_type": "code",
   "execution_count": null,
   "id": "2d3db859",
   "metadata": {},
   "outputs": [],
   "source": []
  }
 ],
 "metadata": {
  "kernelspec": {
   "display_name": "Python 3 (ipykernel)",
   "language": "python",
   "name": "python3"
  },
  "language_info": {
   "codemirror_mode": {
    "name": "ipython",
    "version": 3
   },
   "file_extension": ".py",
   "mimetype": "text/x-python",
   "name": "python",
   "nbconvert_exporter": "python",
   "pygments_lexer": "ipython3",
   "version": "3.9.12"
  }
 },
 "nbformat": 4,
 "nbformat_minor": 5
}
