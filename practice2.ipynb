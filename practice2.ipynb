{
 "cells": [
  {
   "cell_type": "code",
   "execution_count": 4,
   "id": "db4d223c",
   "metadata": {},
   "outputs": [
    {
     "name": "stdout",
     "output_type": "stream",
     "text": [
      "False\n",
      "False\n",
      "True\n",
      "True\n"
     ]
    }
   ],
   "source": [
    "#for i in a\n",
    "#for i in iter(a)\n",
    "class A:\n",
    "    def __next__(self):\n",
    "        return 1\n",
    "\n",
    "class B:\n",
    "    def __iter__(self):\n",
    "        return A()\n",
    "    \n",
    "    def __next__(self):\n",
    "        return None\n",
    "from collections.abc import *\n",
    "a = A()\n",
    "b = B()\n",
    "print(isinstance(a, Iterable))\n",
    "print(isinstance(a, Iterator))\n",
    "\n",
    "print(isinstance(b, Iterable))\n",
    "print(isinstance(b, Iterator))\n",
    "\n"
   ]
  },
  {
   "cell_type": "code",
   "execution_count": 15,
   "id": "c5c21084",
   "metadata": {},
   "outputs": [
    {
     "name": "stdout",
     "output_type": "stream",
     "text": [
      "0\n",
      "1\n",
      "__________\n",
      "2\n",
      "3\n",
      "4\n"
     ]
    }
   ],
   "source": [
    "class myRanges(object):\n",
    "    def __init__(self, end):\n",
    "        self.start = 0\n",
    "        self.end = end\n",
    "        \n",
    "        \n",
    "    def __next__(self):\n",
    "        if self.start < self.end:\n",
    "            curr = self.start\n",
    "            self.start = self.start + 1\n",
    "            return curr\n",
    "        \n",
    "        else:\n",
    "            raise StopIteration\n",
    "    \n",
    "    def __iter__(self):\n",
    "        return self\n",
    "    \n",
    "from collections.abc import *\n",
    "myra = myRanges(5)\n",
    "#print(isinstance(myra,Iterable))\n",
    "#print(isinstance(myra,Iterator))\n",
    "print(next(myra))\n",
    "print(next(myra))\n",
    "print(\"__________\")\n",
    "for i in myra:\n",
    "    print(i)"
   ]
  },
  {
   "cell_type": "code",
   "execution_count": 31,
   "id": "9156ee3d",
   "metadata": {},
   "outputs": [
    {
     "name": "stdout",
     "output_type": "stream",
     "text": [
      "True False\n"
     ]
    }
   ],
   "source": [
    "from math import hypot, sqrt\n",
    "class Vector:\n",
    "    def __init__(self, x=0, y=0):\n",
    "        self.x = x\n",
    "        self.y = y\n",
    "        \n",
    "    def __repr__(self):\n",
    "        print(\"__repr__\")\n",
    "        return \"Vector(%r,%r)\" % (self.x,self.y)\n",
    "    \n",
    "    def __abs__(self):\n",
    "        #return hypot(self.x,self.y)\n",
    "        return sqrt(self.x*self.x + self.y*self.y)\n",
    "    \n",
    "    def __len__(self):#没有__bool__时，bool（）会调用__len__\n",
    "        return 0\n",
    "    \n",
    "    \n",
    "    def __bool__(self):\n",
    "        return bool(abs(self))\n",
    "    \n",
    "    def __add__(self,other):\n",
    "        x = self.x + other.x\n",
    "        y = self.y + other.y\n",
    "        return Vector(x,y)\n",
    "    \n",
    "    def __mul__(self,scalar):\n",
    "        return Vector(self.x * scalar, self.y * scalar)\n",
    "    \n",
    "    \n",
    "v1 = Vector(2, 4)\n",
    "v2 = Vector(2, 1)\n",
    "#print(v1 + v2)\n",
    "\n",
    "v = Vector(3, 4)\n",
    "#print(abs(v))\n",
    "#print(v * 3)\n",
    "#print(abs(v * 3))\n",
    "v3 = Vector(0,0)\n",
    "print(bool(v2),bool(v3))"
   ]
  },
  {
   "cell_type": "code",
   "execution_count": null,
   "id": "688d5b42",
   "metadata": {},
   "outputs": [],
   "source": []
  }
 ],
 "metadata": {
  "kernelspec": {
   "display_name": "Python 3 (ipykernel)",
   "language": "python",
   "name": "python3"
  },
  "language_info": {
   "codemirror_mode": {
    "name": "ipython",
    "version": 3
   },
   "file_extension": ".py",
   "mimetype": "text/x-python",
   "name": "python",
   "nbconvert_exporter": "python",
   "pygments_lexer": "ipython3",
   "version": "3.9.12"
  }
 },
 "nbformat": 4,
 "nbformat_minor": 5
}
