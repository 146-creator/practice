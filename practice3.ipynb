{
 "cells": [
  {
   "cell_type": "code",
   "execution_count": 4,
   "id": "7db38158",
   "metadata": {},
   "outputs": [
    {
     "name": "stdout",
     "output_type": "stream",
     "text": [
      "1\n",
      "['1', '2', 'abc']\n"
     ]
    }
   ],
   "source": [
    "def change_method(param):\n",
    "    param + \"2\"#不可变数据类型，改变会新开辟一个空间\n",
    "    \n",
    "def change_method2(param):\n",
    "    param.append(\"abc\")#会改变原param\n",
    "    param = [\"a\", 'b', 'c']#不会改变原param，而是新开辟空间\n",
    "    \n",
    "    \n",
    "num = \"1\"\n",
    "change_method(num)\n",
    "print(num)\n",
    "\n",
    "\n",
    "lista = [\"1\", \"2\"]\n",
    "change_method2(lista)\n",
    "print(lista)"
   ]
  },
  {
   "cell_type": "code",
   "execution_count": 9,
   "id": "7a503996",
   "metadata": {},
   "outputs": [
    {
     "data": {
      "text/plain": [
       "97"
      ]
     },
     "execution_count": 9,
     "metadata": {},
     "output_type": "execute_result"
    }
   ],
   "source": [
    "ord(\"a\")#ASCII码"
   ]
  },
  {
   "cell_type": "code",
   "execution_count": 10,
   "id": "01c12595",
   "metadata": {},
   "outputs": [],
   "source": [
    "#map(函数名，可迭代类型)"
   ]
  },
  {
   "cell_type": "code",
   "execution_count": 17,
   "id": "8a3d045b",
   "metadata": {},
   "outputs": [],
   "source": [
    "def maptest(func, arr):\n",
    "    restArray = []\n",
    "    for i in arr:\n",
    "        result = func(i)\n",
    "        restArray.append(result)\n",
    "    return restArray\n"
   ]
  },
  {
   "cell_type": "code",
   "execution_count": 18,
   "id": "43fbd8bf",
   "metadata": {},
   "outputs": [
    {
     "name": "stdout",
     "output_type": "stream",
     "text": [
      "[16, 322, 55, 87, 2, 6, 10, 4, 6, 5, 69]\n"
     ]
    }
   ],
   "source": [
    "serArray = [15,321,54,86,1,5,9,3,5,4,68]\n",
    "reat = maptest(lambda x: x + 1,serArray)\n",
    "print(reat)"
   ]
  },
  {
   "cell_type": "code",
   "execution_count": 22,
   "id": "27af7a0e",
   "metadata": {},
   "outputs": [
    {
     "name": "stdout",
     "output_type": "stream",
     "text": [
      "[16, 322, 55, 87, 2, 6, 10, 4, 6, 5, 69]\n"
     ]
    }
   ],
   "source": [
    "rest2 = map(lambda x:x + 1,serArray)\n",
    "print(list(rest2))"
   ]
  },
  {
   "cell_type": "code",
   "execution_count": 23,
   "id": "23c2a7f8",
   "metadata": {},
   "outputs": [],
   "source": [
    "import timeit"
   ]
  },
  {
   "cell_type": "code",
   "execution_count": 37,
   "id": "748039d6",
   "metadata": {},
   "outputs": [],
   "source": [
    "TIMES = 100000\n",
    "SETUP = \"\"\"\n",
    "symbols = \"$@#^&*!~\"\n",
    "def non_ascii(c):\n",
    "    return c > 127\n",
    "\"\"\"\n",
    "\n",
    "def clock(label, cmd):\n",
    "    res = timeit.repeat(cmd, setup = SETUP, number = TIMES)\n",
    "    \n",
    "    print(label, *(\"{:.3f}\".format(x) for x in res))"
   ]
  },
  {
   "cell_type": "code",
   "execution_count": 38,
   "id": "a02da61f",
   "metadata": {},
   "outputs": [
    {
     "name": "stdout",
     "output_type": "stream",
     "text": [
      "listcomp          : 0.639 0.597 0.575 0.525 0.579\n",
      "listcomp + func   : 1.071 0.999 0.996 1.019 0.972\n",
      "filter + lambda   : 1.354 1.248 1.261 1.287 1.292\n",
      "filter + func     : 1.298 1.187 1.165 1.188 1.214\n"
     ]
    }
   ],
   "source": [
    "clock('listcomp          :',\"[ord(s) for s in symbols if ord(s) > 127]\")#列表推导式性能最佳\n",
    "clock(\"listcomp + func   :\",\"[ord(s) for s in symbols if non_ascii(ord(s))]\")\n",
    "clock(\"filter + lambda   :\",\"list(filter(lambda c : c > 127, map(ord, symbols)))\")\n",
    "clock(\"filter + func     :\",\"list(filter(non_ascii,map(ord,symbols)))\")"
   ]
  },
  {
   "cell_type": "code",
   "execution_count": 39,
   "id": "4d696016",
   "metadata": {},
   "outputs": [
    {
     "name": "stdout",
     "output_type": "stream",
     "text": [
      "[('black', 'S'), ('black', 'M'), ('black', 'L'), ('white', 'S'), ('white', 'M'), ('white', 'L')]\n"
     ]
    }
   ],
   "source": [
    "colors = ['black', 'white']\n",
    "sizes = ['S', 'M', 'L']\n",
    "tshirts = [(color,size) for  color in colors for size in sizes]\n",
    "print(tshirts)"
   ]
  },
  {
   "cell_type": "code",
   "execution_count": 40,
   "id": "380cf332",
   "metadata": {},
   "outputs": [
    {
     "name": "stdout",
     "output_type": "stream",
     "text": [
      "('black', 'S')\n",
      "('black', 'M')\n",
      "('black', 'L')\n",
      "('white', 'S')\n",
      "('white', 'M')\n",
      "('white', 'L')\n"
     ]
    }
   ],
   "source": [
    "for color in colors:\n",
    "    for size in sizes:\n",
    "        print((color,size))"
   ]
  },
  {
   "cell_type": "code",
   "execution_count": 43,
   "id": "dde94e82",
   "metadata": {},
   "outputs": [
    {
     "name": "stdout",
     "output_type": "stream",
     "text": [
      "800984\n",
      "112\n",
      "48\n"
     ]
    }
   ],
   "source": [
    "import sys\n",
    "listcomps = [i for i in range(0,100000)]\n",
    "print(sys.getsizeof(listcomps))\n",
    "genexps = (i for i in range(0,100000))#元组生成器，生成一个迭代器\n",
    "print(sys.getsizeof(genexps))#只有访问时才取值\n",
    "genexps2 = range(0,100000)\n",
    "print(sys.getsizeof(genexps2))"
   ]
  },
  {
   "cell_type": "code",
   "execution_count": 44,
   "id": "ad828ea7",
   "metadata": {},
   "outputs": [
    {
     "name": "stdout",
     "output_type": "stream",
     "text": [
      "100\n",
      "0\n",
      "100\n"
     ]
    }
   ],
   "source": [
    "print(listcomps[100])\n",
    "print(next(genexps))#迭代器使用next（）\n",
    "print(genexps2[100])"
   ]
  },
  {
   "cell_type": "code",
   "execution_count": null,
   "id": "e410b154",
   "metadata": {},
   "outputs": [],
   "source": []
  }
 ],
 "metadata": {
  "kernelspec": {
   "display_name": "Python 3 (ipykernel)",
   "language": "python",
   "name": "python3"
  },
  "language_info": {
   "codemirror_mode": {
    "name": "ipython",
    "version": 3
   },
   "file_extension": ".py",
   "mimetype": "text/x-python",
   "name": "python",
   "nbconvert_exporter": "python",
   "pygments_lexer": "ipython3",
   "version": "3.9.12"
  }
 },
 "nbformat": 4,
 "nbformat_minor": 5
}
