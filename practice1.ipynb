{
 "cells": [
  {
   "cell_type": "code",
   "execution_count": 1,
   "id": "2caf4298",
   "metadata": {},
   "outputs": [],
   "source": [
    "import numpy as np\n",
    "\n"
   ]
  },
  {
   "cell_type": "code",
   "execution_count": 2,
   "id": "070fe37a",
   "metadata": {},
   "outputs": [],
   "source": [
    "import pandas as pd\n"
   ]
  },
  {
   "cell_type": "code",
   "execution_count": null,
   "id": "01e4a863",
   "metadata": {},
   "outputs": [],
   "source": []
  },
  {
   "cell_type": "code",
   "execution_count": 3,
   "id": "96335c32",
   "metadata": {},
   "outputs": [],
   "source": [
    "import matplotlib as mpl"
   ]
  },
  {
   "cell_type": "code",
   "execution_count": 11,
   "id": "e2267824",
   "metadata": {},
   "outputs": [],
   "source": [
    "import collections"
   ]
  },
  {
   "cell_type": "code",
   "execution_count": 12,
   "id": "3fe9df0e",
   "metadata": {},
   "outputs": [],
   "source": [
    "from collections import namedtuple\n",
    "\n"
   ]
  },
  {
   "cell_type": "code",
   "execution_count": 13,
   "id": "ad6382b3",
   "metadata": {},
   "outputs": [
    {
     "name": "stdout",
     "output_type": "stream",
     "text": [
      "22\n"
     ]
    }
   ],
   "source": [
    "People = namedtuple('People',\"name,age,like\")\n",
    "zhangsan = People(name = \"张三\",age = 22, like =\"在法律的边缘试探！\")\n",
    "print(zhangsan[1])"
   ]
  },
  {
   "cell_type": "code",
   "execution_count": 14,
   "id": "39771e5d",
   "metadata": {},
   "outputs": [
    {
     "name": "stdout",
     "output_type": "stream",
     "text": [
      "张三\n"
     ]
    }
   ],
   "source": [
    "print(zhangsan.name)"
   ]
  },
  {
   "cell_type": "code",
   "execution_count": 15,
   "id": "02478dbe",
   "metadata": {},
   "outputs": [
    {
     "data": {
      "text/plain": [
       "'张三'"
      ]
     },
     "execution_count": 15,
     "metadata": {},
     "output_type": "execute_result"
    }
   ],
   "source": [
    "zhangsan.name"
   ]
  },
  {
   "cell_type": "code",
   "execution_count": 16,
   "id": "1b2d49ac",
   "metadata": {},
   "outputs": [
    {
     "ename": "AttributeError",
     "evalue": "can't set attribute",
     "output_type": "error",
     "traceback": [
      "\u001b[1;31m---------------------------------------------------------------------------\u001b[0m",
      "\u001b[1;31mAttributeError\u001b[0m                            Traceback (most recent call last)",
      "Input \u001b[1;32mIn [16]\u001b[0m, in \u001b[0;36m<cell line: 1>\u001b[1;34m()\u001b[0m\n\u001b[1;32m----> 1\u001b[0m zhangsan\u001b[38;5;241m.\u001b[39mname\u001b[38;5;241m=\u001b[39m\u001b[38;5;124m\"\u001b[39m\u001b[38;5;124m法外狂徒张三\u001b[39m\u001b[38;5;124m\"\u001b[39m\n",
      "\u001b[1;31mAttributeError\u001b[0m: can't set attribute"
     ]
    }
   ],
   "source": [
    "zhangsan.name=\"法外狂徒张三\"#不可直接赋值"
   ]
  },
  {
   "cell_type": "code",
   "execution_count": 17,
   "id": "0518418a",
   "metadata": {},
   "outputs": [],
   "source": [
    "Card = collections.namedtuple(\"Card\",[\"rank\",\"suit\"])"
   ]
  },
  {
   "cell_type": "code",
   "execution_count": 18,
   "id": "c7031e97",
   "metadata": {},
   "outputs": [
    {
     "name": "stdout",
     "output_type": "stream",
     "text": [
      "I'm len\n",
      "52\n",
      "I'm getitem\n",
      "Card(rank='2', suit='spades')\n",
      "I'm getitem\n",
      "Card(rank='A', suit='hearts')\n"
     ]
    }
   ],
   "source": [
    "class FrenchDeck:\n",
    "    ranks = [str(n) for n in range(2, 11)] + list(\"JQKA\")\n",
    "    suits = \"spades diamonds clubs hearts\".split()\n",
    "    def __init__(self):\n",
    "        self._cards = [Card(rank, suit) for suit in self.suits for rank in self.ranks]\n",
    "        \n",
    "    def __len__(self):\n",
    "        print(\"I'm len\")\n",
    "        return len(self._cards)\n",
    "    \n",
    "    def __getitem__(self, position):\n",
    "        print(\"I'm getitem\")\n",
    "        return self._cards[position]\n",
    "    \n",
    "deck = FrenchDeck()\n",
    "print(len(deck))\n",
    "print(deck[0])\n",
    "print(deck[-1])\n"
   ]
  },
  {
   "cell_type": "code",
   "execution_count": 19,
   "id": "c85ba3d5",
   "metadata": {},
   "outputs": [
    {
     "name": "stdout",
     "output_type": "stream",
     "text": [
      "I'm len\n",
      "I'm getitem\n",
      "Card(rank='10', suit='clubs')\n",
      "I'm len\n",
      "I'm getitem\n",
      "Card(rank='8', suit='hearts')\n",
      "I'm len\n",
      "I'm getitem\n",
      "Card(rank='10', suit='hearts')\n",
      "I'm len\n",
      "I'm getitem\n",
      "Card(rank='7', suit='hearts')\n"
     ]
    }
   ],
   "source": [
    "from random import choice\n",
    "print(choice(deck))\n",
    "print(choice(deck))\n",
    "print(choice(deck))\n",
    "print(choice(deck))"
   ]
  },
  {
   "cell_type": "code",
   "execution_count": 20,
   "id": "9fed992c",
   "metadata": {},
   "outputs": [
    {
     "name": "stdout",
     "output_type": "stream",
     "text": [
      "I'm getitem\n",
      "I'm getitem\n",
      "I'm getitem\n",
      "I'm getitem\n",
      "I'm getitem\n",
      "I'm getitem\n",
      "I'm getitem\n",
      "I'm getitem\n",
      "I'm getitem\n",
      "I'm getitem\n",
      "I'm getitem\n",
      "I'm getitem\n",
      "I'm getitem\n",
      "I'm getitem\n",
      "I'm getitem\n",
      "I'm getitem\n",
      "I'm getitem\n",
      "I'm getitem\n",
      "I'm getitem\n",
      "I'm getitem\n",
      "I'm getitem\n",
      "I'm getitem\n",
      "I'm getitem\n",
      "I'm getitem\n",
      "I'm getitem\n",
      "I'm getitem\n",
      "I'm getitem\n",
      "I'm getitem\n",
      "I'm getitem\n",
      "I'm getitem\n",
      "I'm getitem\n",
      "I'm getitem\n",
      "I'm getitem\n",
      "I'm getitem\n",
      "I'm getitem\n",
      "I'm getitem\n",
      "I'm getitem\n",
      "I'm getitem\n",
      "I'm getitem\n",
      "I'm getitem\n",
      "I'm getitem\n",
      "I'm getitem\n",
      "I'm getitem\n",
      "I'm getitem\n",
      "I'm getitem\n",
      "I'm getitem\n",
      "I'm getitem\n",
      "I'm getitem\n",
      "I'm getitem\n",
      "I'm getitem\n",
      "True\n"
     ]
    }
   ],
   "source": [
    "print(Card(\"Q\", \"hearts\") in deck)#寻找值使用了迭代器"
   ]
  },
  {
   "cell_type": "code",
   "execution_count": 25,
   "id": "753f55cc",
   "metadata": {},
   "outputs": [],
   "source": [
    "suit_values = dict(spades = 3, hearts = 2, diamonds = 1, clubs = 0)\n",
    "def spade_high(card):\n",
    "    rank_value = FrenchDeck.ranks.index(card.rank)\n",
    "#    print(rank_value)\n",
    "#    print(rank_value * len(suit_values) + suit_values[card.suit])\n",
    "    return rank_value * len(suit_values) + suit_values[card.suit]"
   ]
  },
  {
   "cell_type": "code",
   "execution_count": 26,
   "id": "1cf43098",
   "metadata": {},
   "outputs": [
    {
     "name": "stdout",
     "output_type": "stream",
     "text": [
      "I'm len\n",
      "I'm getitem\n",
      "I'm getitem\n",
      "I'm getitem\n",
      "I'm getitem\n",
      "I'm getitem\n",
      "I'm getitem\n",
      "I'm getitem\n",
      "I'm getitem\n",
      "I'm getitem\n",
      "I'm getitem\n",
      "I'm getitem\n",
      "I'm getitem\n",
      "I'm getitem\n",
      "I'm getitem\n",
      "I'm getitem\n",
      "I'm getitem\n",
      "I'm getitem\n",
      "I'm getitem\n",
      "I'm getitem\n",
      "I'm getitem\n",
      "I'm getitem\n",
      "I'm getitem\n",
      "I'm getitem\n",
      "I'm getitem\n",
      "I'm getitem\n",
      "I'm getitem\n",
      "I'm getitem\n",
      "I'm getitem\n",
      "I'm getitem\n",
      "I'm getitem\n",
      "I'm getitem\n",
      "I'm getitem\n",
      "I'm getitem\n",
      "I'm getitem\n",
      "I'm getitem\n",
      "I'm getitem\n",
      "I'm getitem\n",
      "I'm getitem\n",
      "I'm getitem\n",
      "I'm getitem\n",
      "I'm getitem\n",
      "I'm getitem\n",
      "I'm getitem\n",
      "I'm getitem\n",
      "I'm getitem\n",
      "I'm getitem\n",
      "I'm getitem\n",
      "I'm getitem\n",
      "I'm getitem\n",
      "I'm getitem\n",
      "I'm getitem\n",
      "I'm getitem\n",
      "I'm getitem\n",
      "0\n",
      "3\n",
      "1\n",
      "7\n",
      "2\n",
      "11\n",
      "3\n",
      "15\n",
      "4\n",
      "19\n",
      "5\n",
      "23\n",
      "6\n",
      "27\n",
      "7\n",
      "31\n",
      "8\n",
      "35\n",
      "9\n",
      "39\n",
      "10\n",
      "43\n",
      "11\n",
      "47\n",
      "12\n",
      "51\n",
      "0\n",
      "1\n",
      "1\n",
      "5\n",
      "2\n",
      "9\n",
      "3\n",
      "13\n",
      "4\n",
      "17\n",
      "5\n",
      "21\n",
      "6\n",
      "25\n",
      "7\n",
      "29\n",
      "8\n",
      "33\n",
      "9\n",
      "37\n",
      "10\n",
      "41\n",
      "11\n",
      "45\n",
      "12\n",
      "49\n",
      "0\n",
      "0\n",
      "1\n",
      "4\n",
      "2\n",
      "8\n",
      "3\n",
      "12\n",
      "4\n",
      "16\n",
      "5\n",
      "20\n",
      "6\n",
      "24\n",
      "7\n",
      "28\n",
      "8\n",
      "32\n",
      "9\n",
      "36\n",
      "10\n",
      "40\n",
      "11\n",
      "44\n",
      "12\n",
      "48\n",
      "0\n",
      "2\n",
      "1\n",
      "6\n",
      "2\n",
      "10\n",
      "3\n",
      "14\n",
      "4\n",
      "18\n",
      "5\n",
      "22\n",
      "6\n",
      "26\n",
      "7\n",
      "30\n",
      "8\n",
      "34\n",
      "9\n",
      "38\n",
      "10\n",
      "42\n",
      "11\n",
      "46\n",
      "12\n",
      "50\n",
      "Card(rank='2', suit='clubs')\n",
      "Card(rank='2', suit='diamonds')\n",
      "Card(rank='2', suit='hearts')\n",
      "Card(rank='2', suit='spades')\n",
      "Card(rank='3', suit='clubs')\n",
      "Card(rank='3', suit='diamonds')\n",
      "Card(rank='3', suit='hearts')\n",
      "Card(rank='3', suit='spades')\n",
      "Card(rank='4', suit='clubs')\n",
      "Card(rank='4', suit='diamonds')\n",
      "Card(rank='4', suit='hearts')\n",
      "Card(rank='4', suit='spades')\n",
      "Card(rank='5', suit='clubs')\n",
      "Card(rank='5', suit='diamonds')\n",
      "Card(rank='5', suit='hearts')\n",
      "Card(rank='5', suit='spades')\n",
      "Card(rank='6', suit='clubs')\n",
      "Card(rank='6', suit='diamonds')\n",
      "Card(rank='6', suit='hearts')\n",
      "Card(rank='6', suit='spades')\n",
      "Card(rank='7', suit='clubs')\n",
      "Card(rank='7', suit='diamonds')\n",
      "Card(rank='7', suit='hearts')\n",
      "Card(rank='7', suit='spades')\n",
      "Card(rank='8', suit='clubs')\n",
      "Card(rank='8', suit='diamonds')\n",
      "Card(rank='8', suit='hearts')\n",
      "Card(rank='8', suit='spades')\n",
      "Card(rank='9', suit='clubs')\n",
      "Card(rank='9', suit='diamonds')\n",
      "Card(rank='9', suit='hearts')\n",
      "Card(rank='9', suit='spades')\n",
      "Card(rank='10', suit='clubs')\n",
      "Card(rank='10', suit='diamonds')\n",
      "Card(rank='10', suit='hearts')\n",
      "Card(rank='10', suit='spades')\n",
      "Card(rank='J', suit='clubs')\n",
      "Card(rank='J', suit='diamonds')\n",
      "Card(rank='J', suit='hearts')\n",
      "Card(rank='J', suit='spades')\n",
      "Card(rank='Q', suit='clubs')\n",
      "Card(rank='Q', suit='diamonds')\n",
      "Card(rank='Q', suit='hearts')\n",
      "Card(rank='Q', suit='spades')\n",
      "Card(rank='K', suit='clubs')\n",
      "Card(rank='K', suit='diamonds')\n",
      "Card(rank='K', suit='hearts')\n",
      "Card(rank='K', suit='spades')\n",
      "Card(rank='A', suit='clubs')\n",
      "Card(rank='A', suit='diamonds')\n",
      "Card(rank='A', suit='hearts')\n",
      "Card(rank='A', suit='spades')\n"
     ]
    }
   ],
   "source": [
    "for card in sorted(deck, key = spade_high):\n",
    "    print(card)"
   ]
  },
  {
   "cell_type": "code",
   "execution_count": null,
   "id": "e2621e00",
   "metadata": {},
   "outputs": [],
   "source": []
  }
 ],
 "metadata": {
  "kernelspec": {
   "display_name": "Python 3 (ipykernel)",
   "language": "python",
   "name": "python3"
  },
  "language_info": {
   "codemirror_mode": {
    "name": "ipython",
    "version": 3
   },
   "file_extension": ".py",
   "mimetype": "text/x-python",
   "name": "python",
   "nbconvert_exporter": "python",
   "pygments_lexer": "ipython3",
   "version": "3.9.12"
  }
 },
 "nbformat": 4,
 "nbformat_minor": 5
}
