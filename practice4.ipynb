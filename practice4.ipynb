{
 "cells": [
  {
   "cell_type": "code",
   "execution_count": 4,
   "id": "78c5d133",
   "metadata": {},
   "outputs": [
    {
     "name": "stdout",
     "output_type": "stream",
     "text": [
      "1782721636608\n",
      "1782721042176\n",
      "(1, 2, 3, 4)\n",
      "1782716642864\n"
     ]
    }
   ],
   "source": [
    "t1 = 1,2\n",
    "t2 = 3,4\n",
    "print(id(t1))\n",
    "print(id(t2))\n",
    "print(t1+t2)\n",
    "print(id(t1+t2))#元组相加生产新的元组"
   ]
  },
  {
   "cell_type": "code",
   "execution_count": 8,
   "id": "79be720a",
   "metadata": {},
   "outputs": [
    {
     "name": "stdout",
     "output_type": "stream",
     "text": [
      "1782721623808\n",
      "1782721623808\n"
     ]
    }
   ],
   "source": [
    "t = (1,2,[1,2])\n",
    "print(id(t))\n",
    "t[2].append([3,4])#列表中添加，未生成新的内存\n",
    "print(id(t))"
   ]
  },
  {
   "cell_type": "code",
   "execution_count": 21,
   "id": "0eaad23e",
   "metadata": {},
   "outputs": [
    {
     "name": "stdout",
     "output_type": "stream",
     "text": [
      "BRA/CE342567\n",
      "ESP/XDA205856\n",
      "USA/31195855\n",
      "USA\n",
      "BRA\n",
      "ESP\n",
      "[2003, 32450, 0.66]\n"
     ]
    }
   ],
   "source": [
    "lax_coordinates = (33.9425,-118.408056)\n",
    "city,year,pop,chg,area = ('Tokyo', 2003, 32450, 0.66, 8014)#拆包\n",
    "city,*aaa,area = ('Tokyo', 2003, 32450, 0.66, 8014)\n",
    "traveler_ids = [(\"USA\",\"31195855\"),(\"BRA\",\"CE342567\"),(\"ESP\",\"XDA205856\")]\n",
    "for passport in sorted(traveler_ids):\n",
    "    print(\"%s/%s\" % passport)#/：拆包，拆为两个\n",
    "    \n",
    "for country, _ in traveler_ids:\n",
    "    print(country)\n",
    "print(aaa)#列表"
   ]
  },
  {
   "cell_type": "code",
   "execution_count": 4,
   "id": "03d8ca51",
   "metadata": {},
   "outputs": [],
   "source": [
    "#使用具名元组\n",
    "from collections import namedtuple\n"
   ]
  },
  {
   "cell_type": "code",
   "execution_count": 5,
   "id": "51bfa1df",
   "metadata": {},
   "outputs": [],
   "source": [
    "Card = namedtuple(\"Card\", [\"rank\", \"suit\"])"
   ]
  },
  {
   "cell_type": "code",
   "execution_count": 7,
   "id": "c6fe4832",
   "metadata": {},
   "outputs": [
    {
     "data": {
      "text/plain": [
       "City(name='Tokyo', country='JP', population=36.933, coordinates=(35.689722, 139.691667))"
      ]
     },
     "execution_count": 7,
     "metadata": {},
     "output_type": "execute_result"
    }
   ],
   "source": [
    "City = namedtuple('City', 'name country population coordinates')\n",
    "tokyo = City('Tokyo', 'JP', 36.933, (35.689722, 139.691667))\n",
    "tokyo"
   ]
  },
  {
   "cell_type": "code",
   "execution_count": 8,
   "id": "1b80bb72",
   "metadata": {},
   "outputs": [
    {
     "data": {
      "text/plain": [
       "36.933"
      ]
     },
     "execution_count": 8,
     "metadata": {},
     "output_type": "execute_result"
    }
   ],
   "source": [
    "tokyo[2]"
   ]
  },
  {
   "cell_type": "code",
   "execution_count": 9,
   "id": "9c66e401",
   "metadata": {},
   "outputs": [
    {
     "data": {
      "text/plain": [
       "36.933"
      ]
     },
     "execution_count": 9,
     "metadata": {},
     "output_type": "execute_result"
    }
   ],
   "source": [
    "tokyo.population"
   ]
  },
  {
   "cell_type": "code",
   "execution_count": 10,
   "id": "b2e3b0d4",
   "metadata": {},
   "outputs": [
    {
     "data": {
      "text/plain": [
       "('name', 'country', 'population', 'coordinates')"
      ]
     },
     "execution_count": 10,
     "metadata": {},
     "output_type": "execute_result"
    }
   ],
   "source": [
    "City._fields"
   ]
  },
  {
   "cell_type": "code",
   "execution_count": 12,
   "id": "ce2806ff",
   "metadata": {},
   "outputs": [
    {
     "data": {
      "text/plain": [
       "{'name': 'Delhi NCR',\n",
       " 'country': 'IN',\n",
       " 'population': 21.935,\n",
       " 'coordinates': LatLong(lat=28.613889, long=77.208889)}"
      ]
     },
     "execution_count": 12,
     "metadata": {},
     "output_type": "execute_result"
    }
   ],
   "source": [
    "LatLong = namedtuple('LatLong', 'lat long')\n",
    "delhi_data = ('Delhi NCR', 'IN', 21.935, LatLong(28.613889, 77.208889))\n",
    "delhi = City._make(delhi_data)#为City中的名字分别赋值\n",
    "delhi._asdict()#输出为字典形式\n"
   ]
  },
  {
   "cell_type": "code",
   "execution_count": 13,
   "id": "e96b62fa",
   "metadata": {},
   "outputs": [
    {
     "name": "stdout",
     "output_type": "stream",
     "text": [
      "name: Delhi NCR\n",
      "country: IN\n",
      "population: 21.935\n",
      "coordinates: LatLong(lat=28.613889, long=77.208889)\n"
     ]
    }
   ],
   "source": [
    "for key, value in delhi._asdict().items():\n",
    "    print(key + ':',value)"
   ]
  },
  {
   "cell_type": "code",
   "execution_count": 15,
   "id": "6f7903d0",
   "metadata": {},
   "outputs": [
    {
     "data": {
      "text/plain": [
       "[['_', '_', '_'], ['_', '_', '_'], ['_', '_', '_']]"
      ]
     },
     "execution_count": 15,
     "metadata": {},
     "output_type": "execute_result"
    }
   ],
   "source": [
    "board = [['_'] * 3 for i in range(3)]\n",
    "board"
   ]
  },
  {
   "cell_type": "code",
   "execution_count": null,
   "id": "81066874",
   "metadata": {},
   "outputs": [],
   "source": [
    "#不要把可变对象放到元组里\n",
    "#增量赋值不是一个原子操作。\n",
    "#查看Python的字节码并不难，而且对我们了解代码背后的运作机制很有帮助\n",
    "\n"
   ]
  },
  {
   "cell_type": "code",
   "execution_count": 16,
   "id": "d16837cc",
   "metadata": {},
   "outputs": [
    {
     "ename": "TypeError",
     "evalue": "'tuple' object does not support item assignment",
     "output_type": "error",
     "traceback": [
      "\u001b[1;31m---------------------------------------------------------------------------\u001b[0m",
      "\u001b[1;31mTypeError\u001b[0m                                 Traceback (most recent call last)",
      "Input \u001b[1;32mIn [16]\u001b[0m, in \u001b[0;36m<cell line: 2>\u001b[1;34m()\u001b[0m\n\u001b[0;32m      1\u001b[0m t \u001b[38;5;241m=\u001b[39m (\u001b[38;5;241m1\u001b[39m, \u001b[38;5;241m2\u001b[39m, [\u001b[38;5;241m30\u001b[39m, \u001b[38;5;241m40\u001b[39m])\n\u001b[1;32m----> 2\u001b[0m t[\u001b[38;5;241m2\u001b[39m] \u001b[38;5;241m+\u001b[39m\u001b[38;5;241m=\u001b[39m [\u001b[38;5;241m50\u001b[39m, \u001b[38;5;241m60\u001b[39m]\n\u001b[0;32m      3\u001b[0m t\n",
      "\u001b[1;31mTypeError\u001b[0m: 'tuple' object does not support item assignment"
     ]
    }
   ],
   "source": [
    "t = (1, 2, [30, 40])\n",
    "t[2] += [50, 60]\n",
    "t"
   ]
  },
  {
   "cell_type": "code",
   "execution_count": 20,
   "id": "5b9b7214",
   "metadata": {},
   "outputs": [
    {
     "data": {
      "text/plain": [
       "(1, 2, [30, 40, 50, 60])"
      ]
     },
     "execution_count": 20,
     "metadata": {},
     "output_type": "execute_result"
    }
   ],
   "source": [
    "t#仍然被改变了"
   ]
  },
  {
   "cell_type": "code",
   "execution_count": 21,
   "id": "e12fd5a1",
   "metadata": {},
   "outputs": [],
   "source": [
    "import dis #字节码"
   ]
  },
  {
   "cell_type": "code",
   "execution_count": 22,
   "id": "3f39778c",
   "metadata": {},
   "outputs": [
    {
     "name": "stdout",
     "output_type": "stream",
     "text": [
      "  1           0 LOAD_NAME                0 (s)\n",
      "              2 LOAD_NAME                1 (a)\n",
      "              4 DUP_TOP_TWO\n",
      "              6 BINARY_SUBSCR\n",
      "              8 LOAD_NAME                2 (b)\n",
      "             10 INPLACE_ADD\n",
      "             12 ROT_THREE\n",
      "             14 STORE_SUBSCR\n",
      "             16 LOAD_CONST               0 (None)\n",
      "             18 RETURN_VALUE\n"
     ]
    }
   ],
   "source": [
    "dis.dis('s[a] += b')"
   ]
  },
  {
   "cell_type": "code",
   "execution_count": 23,
   "id": "33396572",
   "metadata": {},
   "outputs": [
    {
     "data": {
      "text/plain": [
       "'sorted(list)\\n新建一个列表作为返回值，可以接收任何形式的可迭代对象，并返回列表\\n参数：reverse和key\\nreverse = True ：降序。 默认为False\\nkey：一个只有一个参数的函数，这个函数会被用在序列里的每一个元素上，所产生的结果将是排序\\n算法依赖的对比关键字。比如说，在对一些字符串排序时，可以用key=str.lower 来实现忽略大小写\\n的排序，或者是用key=len 进行基于字符串长度的排序。这个参数的默认值是恒等函数（identity function）\\n，也就是默认用元素自己的值来排序。'"
      ]
     },
     "execution_count": 23,
     "metadata": {},
     "output_type": "execute_result"
    }
   ],
   "source": [
    "\"\"\"\n",
    "sorted(list)\n",
    "新建一个列表作为返回值，可以接收任何形式的可迭代对象，并返回列表\n",
    "参数：reverse和key\n",
    "reverse = True ：降序。 默认为False\n",
    "key：一个只有一个参数的函数，这个函数会被用在序列里的每一个元素上，所产生的结果将是排序\n",
    "算法依赖的对比关键字。比如说，在对一些字符串排序时，可以用key=str.lower 来实现忽略大小写\n",
    "的排序，或者是用key=len 进行基于字符串长度的排序。这个参数的默认值是恒等函数（identity function）\n",
    "，也就是默认用元素自己的值来排序。\n",
    "可选参数key 还可以在内置函数min() 和max() 中起作用。另外，还有些标准\n",
    "库里的函数也接受这个参数，像itertools.groupby() 和heapq.nlargest() 等。\n",
    "\"\"\""
   ]
  },
  {
   "cell_type": "code",
   "execution_count": 24,
   "id": "1f14f896",
   "metadata": {},
   "outputs": [
    {
     "data": {
      "text/plain": [
       "'\\nlist.sort()改变原有列表，不返回新列表\\n\\n'"
      ]
     },
     "execution_count": 24,
     "metadata": {},
     "output_type": "execute_result"
    }
   ],
   "source": [
    "\"\"\"\n",
    "list.sort()改变原有列表，不返回新列表\n",
    "\n",
    "\"\"\"\n"
   ]
  },
  {
   "cell_type": "code",
   "execution_count": 26,
   "id": "d1a3a7cf",
   "metadata": {},
   "outputs": [],
   "source": [
    "#array比list处理数据更快\n",
    "from array import array\n",
    "from random import random\n",
    "floats = array('d', (random() for i in range(10**7)))\n",
    "floats[-1]\n",
    "fp = open('floats.bin', 'wb')\n",
    "floats.tofile(fp)\n",
    "fp.close()"
   ]
  },
  {
   "cell_type": "code",
   "execution_count": 27,
   "id": "b7e10d71",
   "metadata": {},
   "outputs": [],
   "source": []
  },
  {
   "cell_type": "code",
   "execution_count": null,
   "id": "73e82fc8",
   "metadata": {},
   "outputs": [],
   "source": []
  }
 ],
 "metadata": {
  "kernelspec": {
   "display_name": "Python 3 (ipykernel)",
   "language": "python",
   "name": "python3"
  },
  "language_info": {
   "codemirror_mode": {
    "name": "ipython",
    "version": 3
   },
   "file_extension": ".py",
   "mimetype": "text/x-python",
   "name": "python",
   "nbconvert_exporter": "python",
   "pygments_lexer": "ipython3",
   "version": "3.9.12"
  }
 },
 "nbformat": 4,
 "nbformat_minor": 5
}
