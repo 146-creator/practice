{
 "cells": [
  {
   "cell_type": "code",
   "execution_count": 48,
   "metadata": {},
   "outputs": [
    {
     "ename": "IndexError",
     "evalue": "list index out of range",
     "output_type": "error",
     "traceback": [
      "\u001b[1;31m---------------------------------------------------------------------------\u001b[0m",
      "\u001b[1;31mIndexError\u001b[0m                                Traceback (most recent call last)",
      "\u001b[1;32m<ipython-input-48-75b17d9f40dc>\u001b[0m in \u001b[0;36m<module>\u001b[1;34m\u001b[0m\n\u001b[0;32m     59\u001b[0m \u001b[1;33m\u001b[0m\u001b[0m\n\u001b[0;32m     60\u001b[0m     \u001b[0mhot_pot\u001b[0m \u001b[1;33m=\u001b[0m \u001b[0mhot_pot\u001b[0m\u001b[1;33m(\u001b[0m\u001b[0murl\u001b[0m\u001b[1;33m,\u001b[0m \u001b[0mheaders\u001b[0m\u001b[1;33m,\u001b[0m \u001b[0mcookies\u001b[0m\u001b[1;33m)\u001b[0m\u001b[1;33m\u001b[0m\u001b[1;33m\u001b[0m\u001b[0m\n\u001b[1;32m---> 61\u001b[1;33m     \u001b[0mhot_pot\u001b[0m\u001b[1;33m.\u001b[0m\u001b[0mget_data\u001b[0m\u001b[1;33m(\u001b[0m\u001b[1;33m)\u001b[0m\u001b[1;33m\u001b[0m\u001b[1;33m\u001b[0m\u001b[0m\n\u001b[0m",
      "\u001b[1;32m<ipython-input-48-75b17d9f40dc>\u001b[0m in \u001b[0;36mget_data\u001b[1;34m(self)\u001b[0m\n\u001b[0;32m     26\u001b[0m         \u001b[0mc\u001b[0m \u001b[1;33m=\u001b[0m \u001b[1;36m0\u001b[0m\u001b[1;33m\u001b[0m\u001b[1;33m\u001b[0m\u001b[0m\n\u001b[0;32m     27\u001b[0m         \u001b[1;32mfor\u001b[0m \u001b[0mi\u001b[0m \u001b[1;32min\u001b[0m \u001b[0mresponse\u001b[0m\u001b[1;33m:\u001b[0m\u001b[1;33m\u001b[0m\u001b[1;33m\u001b[0m\u001b[0m\n\u001b[1;32m---> 28\u001b[1;33m             \u001b[0mpro\u001b[0m \u001b[1;33m=\u001b[0m \u001b[0mi\u001b[0m\u001b[1;33m[\u001b[0m\u001b[1;34m'province'\u001b[0m\u001b[1;33m]\u001b[0m\u001b[1;33m.\u001b[0m\u001b[0msplit\u001b[0m\u001b[1;33m(\u001b[0m\u001b[1;34m' '\u001b[0m\u001b[1;33m)\u001b[0m\u001b[1;33m[\u001b[0m\u001b[0mc\u001b[0m\u001b[1;33m]\u001b[0m\u001b[1;33m\u001b[0m\u001b[1;33m\u001b[0m\u001b[0m\n\u001b[0m\u001b[0;32m     29\u001b[0m \u001b[1;33m\u001b[0m\u001b[0m\n\u001b[0;32m     30\u001b[0m             \u001b[0mprovince\u001b[0m\u001b[1;33m.\u001b[0m\u001b[0mappend\u001b[0m\u001b[1;33m(\u001b[0m\u001b[0mpro\u001b[0m\u001b[1;33m)\u001b[0m\u001b[1;33m\u001b[0m\u001b[1;33m\u001b[0m\u001b[0m\n",
      "\u001b[1;31mIndexError\u001b[0m: list index out of range"
     ]
    }
   ],
   "source": [
    "import requests\n",
    "import re\n",
    "import time\n",
    "import os\n",
    "import numpy as np\n",
    "import pandas as pd\n",
    "from lxml import etree\n",
    "\n",
    "\n",
    "class hot_pot(object):\n",
    "    def __init__(self, url, headers, cookies):\n",
    "        self.url = url\n",
    "        self.headers = headers\n",
    "        self.cookies = cookies\n",
    "    def get_data(self):\n",
    "        response = requests.get(url = self.url, headers = self.headers,cookies = self.cookies).json()\n",
    "        # data = response.content\n",
    "        # html = etree.HTML(data)\n",
    "        # print(html)\n",
    "        # el_list = html.xpath('')\n",
    "        response = response['more_city']\n",
    "        province = []\n",
    "        city = []\n",
    "        num1 = []\n",
    "        num2 = []\n",
    "        c = 0\n",
    "        for i in response:\n",
    "            pro = i['province'].split(' ')\n",
    "\n",
    "            province.append(pro)\n",
    "#             print(province)\n",
    "            num1.append(i['num'])\n",
    "\n",
    "#             df1 = pd.DataFrame(data = np.array(i['province'].split(' '),num1),columns=['省份','数量'])\n",
    "#             df1.to_excel(r'C:\\Users\\86135\\my company', sheet_name='全国省份火锅数量')\n",
    "\n",
    "        for j in city:\n",
    "               \n",
    "            num2.append(j)\n",
    "#             print(num2)\n",
    "#                 print(pd.DataFrame(np.array(num2)))\n",
    "#                 df2 = pd.DataFrame(data = np.array(j['name'].split(' '),num2),columns=['城市','数量'])\n",
    "#                 df2.to_excel(r'C:\\Users\\86135\\my company\\df2', sheet_name='全国城市火锅数量')\n",
    "\n",
    "    # def run(self, url, headers):\n",
    "\n",
    "\n",
    "if __name__ == '__main__':\n",
    "\n",
    "    temp = 'PSTM=1602426812; BAIDUID=C2C0BAF20C5CF21D49172C0B30DBF4BA:FG=1; BIDUPSID=3A02B723D8F8A1B35B1428891296B766; BDUSS=02MFQ1cGpTSnNMOHd0ckhYYjFtQmpzYXc5QzZFSkVRV3FUQmMtRkZucVRhTUpmSVFBQUFBJCQAAAAAAAAAAAEAAACQ6fjHwNa527XEvvjN-9XfAAAAAAAAAAAAAAAAAAAAAAAAAAAAAAAAAAAAAAAAAAAAAAAAAAAAAAAAAAAAAAAAAAAAAJPbml-T25pfcW; BDUSS_BFESS=02MFQ1cGpTSnNMOHd0ckhYYjFtQmpzYXc5QzZFSkVRV3FUQmMtRkZucVRhTUpmSVFBQUFBJCQAAAAAAAAAAAEAAACQ6fjHwNa527XEvvjN-9XfAAAAAAAAAAAAAAAAAAAAAAAAAAAAAAAAAAAAAAAAAAAAAAAAAAAAAAAAAAAAAAAAAAAAAJPbml-T25pfcW; __yjs_duid=1_077558fe67143ed3c355de53b023bf151618200436608; H_PS_PSSID=33344_31254_33690_33849_33676_26350_33893_33810; BDORZ=B490B5EBF6F3CD402E515D22BCDA1598; BDRCVFR[feWj1Vr5u3D]=I67x6TjHwwYf0; PSINO=7; BAIDUID_BFESS=C04760CDE4753170F44164D3080AC899:FG=1; delPer=1; BA_HECTOR=050h8k850k2g8l80uj1g7i3m70q; MCITY=-%3A; M_LG_UID=3354978704; M_LG_SALT=2f9b345dadb02e4146d30b9fc3de7351; validate=98552; ab_sr=1.0.0_YTI0ODEwZTljMDhjYjVjYzQ3NDIyYzJhZDIxOWVlNWI0NjU5NzkyMmU2ZWFjNzBiNDk0ZDI1NDljOWY1YzdjZGM5YWJlMzE0ZDA0MzkyMTA1MzlhOTI1Mzk4ZDNmZTA0'\n",
    "    cookies_list = temp.split(';')\n",
    "    cookies = {}\n",
    "    for cookie in cookies_list:\n",
    "        cookies[cookie.split('=')[0]] = cookie.split('=')[-1]\n",
    "    url = 'https://map.baidu.com/?newmap=1&reqflag=pcmap&biz=1&from=webmap&da_par=after_baidu&pcevaname=pc4.1&qt=s&da_src=searchBox.button&wd=%E7%81%AB%E9%94%85&c=1&src=0&wd2=&pn=0&sug=0&l=6&b=(11328496.42540206,3200522.9054197427;12963754.498258863,6460488.999050401)&from=webmap&biz_forward={%22scaler%22:1,%22styles%22:%22pl%22}&sug_forward=&auth=4YeQyNTZCyPYW8gQJ%40FYv4aOB0e7R%40g0uxLxRHENVEEtAmk5zC88y1GgvPUDZYOYIZuVt1cv3uVtGccZcuVtPWv3GuztQZ3wWvUvhgMZSguxzBEHLNRTVtcEWe1GD8zv7u%40ZPuVteuztghxehwz4z6JG4V66vlp55C%40BcvY1SGpuxEtEjjg2K&seckey=c6d9c7e05d7e627c56ed46fab5d7c5c792064779599d5e12b955a6f18a1204375d1588206c94d22e4bdd1ade0ad06e78c21917e24c6223b96bc51b75ca38651ab60893e9c31eaf91c3d3f297e15c0438600f6232b6047549a0a0f576c5a0a41309f89bf44a369a44308f771709133e54298282c037650aa5fff3b8e650663499ef380a98018a03a7467cf63d74293e7dacb4782d2779f9c3aa5e73cf328e9b6c5d061cf8c884983b8b66fd88b1a098c5f88552c02dda37873811861773d14175f626698c1dbd73914e1b2c29c5ab8e553e9ca55475667e9ffba35f5687a3ab04ea0c38f531e97839dfd5beaf2e1a3451&device_ratio=1&tn=B_NORMAL_MAP&nn=0&u_loc=12684772,2559638&ie=utf-8&t=1618547091297'\n",
    "    headers = {'User-Agent' : 'Mozilla/5.0 (Windows NT 10.0; Win64; x64) AppleWebKit/537.36 (KHTML, like Gecko) Chrome/89.0.4389.128 Safari/537.36',\n",
    "               'Referer' : 'https://map.baidu.com/@11606355.21827135,4669275.87827135,5z',\n",
    "               }\n",
    "\n",
    "    hot_pot = hot_pot(url, headers, cookies)\n",
    "    hot_pot.get_data()"
   ]
  },
  {
   "cell_type": "code",
   "execution_count": null,
   "metadata": {},
   "outputs": [],
   "source": []
  }
 ],
 "metadata": {
  "kernelspec": {
   "display_name": "Python 3",
   "language": "python",
   "name": "python3"
  },
  "language_info": {
   "codemirror_mode": {
    "name": "ipython",
    "version": 3
   },
   "file_extension": ".py",
   "mimetype": "text/x-python",
   "name": "python",
   "nbconvert_exporter": "python",
   "pygments_lexer": "ipython3",
   "version": "3.8.3"
  }
 },
 "nbformat": 4,
 "nbformat_minor": 4
}
